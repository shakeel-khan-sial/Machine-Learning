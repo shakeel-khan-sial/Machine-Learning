{
  "nbformat": 4,
  "nbformat_minor": 0,
  "metadata": {
    "colab": {
      "name": "Untitled17.ipynb",
      "provenance": [],
      "mount_file_id": "1TadJqgLm4-W-HQBV2mq27ekSQxgEMOxR",
      "authorship_tag": "ABX9TyOEEdgMFY9ur6kfHTX/8p2n",
      "include_colab_link": true
    },
    "kernelspec": {
      "name": "python3",
      "display_name": "Python 3"
    },
    "accelerator": "GPU"
  },
  "cells": [
    {
      "cell_type": "markdown",
      "metadata": {
        "id": "view-in-github",
        "colab_type": "text"
      },
      "source": [
        "<a href=\"https://colab.research.google.com/github/shakeel-khan-sial/Machine-Learning/blob/master/Untitled17.ipynb\" target=\"_parent\"><img src=\"https://colab.research.google.com/assets/colab-badge.svg\" alt=\"Open In Colab\"/></a>"
      ]
    },
    {
      "cell_type": "code",
      "metadata": {
        "id": "QXlqCuS2-lUj",
        "colab_type": "code",
        "colab": {}
      },
      "source": [
        "import pandas as pd\n",
        "import numpy as np\n",
        "import matplotlib.pyplot as plt\n"
      ],
      "execution_count": 0,
      "outputs": []
    },
    {
      "cell_type": "code",
      "metadata": {
        "id": "MAp-GaKWC7fI",
        "colab_type": "code",
        "colab": {}
      },
      "source": [
        "df=pd.read_csv('/content/drive/My Drive/Fiverr/hotel_bookings.csv')\n",
        "df.head()"
      ],
      "execution_count": 0,
      "outputs": []
    },
    {
      "cell_type": "code",
      "metadata": {
        "id": "h1FHmnZ9DIM_",
        "colab_type": "code",
        "colab": {}
      },
      "source": [
        "df.shape"
      ],
      "execution_count": 0,
      "outputs": []
    },
    {
      "cell_type": "code",
      "metadata": {
        "id": "Q_HgYarTDMvD",
        "colab_type": "code",
        "colab": {}
      },
      "source": [
        "df.head(10)"
      ],
      "execution_count": 0,
      "outputs": []
    },
    {
      "cell_type": "code",
      "metadata": {
        "id": "qB9vVf2pDrS3",
        "colab_type": "code",
        "colab": {}
      },
      "source": [
        "print(df['hotel'])\n",
        "print(df['hotel'].isnull())\n",
        "unique=[]\n",
        "for a in df['hotel']:\n",
        "  if a not in unique:\n",
        "    unique.append(a)\n",
        "print(unique)\n"
      ],
      "execution_count": 0,
      "outputs": []
    },
    {
      "cell_type": "code",
      "metadata": {
        "id": "vMobIyP1EyMF",
        "colab_type": "code",
        "colab": {}
      },
      "source": [
        "df['is_canceled']\n",
        "print(df['is_canceled'].isnull())\n"
      ],
      "execution_count": 0,
      "outputs": []
    },
    {
      "cell_type": "code",
      "metadata": {
        "id": "ejWx0PWXFZXF",
        "colab_type": "code",
        "colab": {}
      },
      "source": [
        "unique=[]\n",
        "for a in df['is_canceled']:\n",
        "  if a not in unique:\n",
        "    unique.append(a)\n",
        "print(unique)"
      ],
      "execution_count": 0,
      "outputs": []
    },
    {
      "cell_type": "code",
      "metadata": {
        "id": "c1mTTCYlG8Ng",
        "colab_type": "code",
        "colab": {}
      },
      "source": [
        "unique=[]\n",
        "for a in df['is_canceled']:\n",
        "  if a not in unique:\n",
        "    unique.append(a)\n",
        "print(unique)"
      ],
      "execution_count": 0,
      "outputs": []
    },
    {
      "cell_type": "code",
      "metadata": {
        "id": "Cvl0qxtsHORx",
        "colab_type": "code",
        "colab": {}
      },
      "source": [
        "ac=df['lead_time'].isnull()\n",
        "unique=[]\n",
        "for a in ac:\n",
        "  if a not in unique:\n",
        "    unique.append(a)\n",
        "print(unique)"
      ],
      "execution_count": 0,
      "outputs": []
    },
    {
      "cell_type": "code",
      "metadata": {
        "id": "7NG_h8FWHSF-",
        "colab_type": "code",
        "colab": {}
      },
      "source": [
        "df.head()"
      ],
      "execution_count": 0,
      "outputs": []
    },
    {
      "cell_type": "code",
      "metadata": {
        "id": "NT7YMz62KCYj",
        "colab_type": "code",
        "colab": {}
      },
      "source": [
        "df.columns"
      ],
      "execution_count": 0,
      "outputs": []
    },
    {
      "cell_type": "code",
      "metadata": {
        "id": "rAU3B97IJI5R",
        "colab_type": "code",
        "colab": {}
      },
      "source": [
        "print(df['stays_in_weekend_nights'].isnull())\n",
        "print(df['stays_in_week_nights'].isnull())\n",
        "print(df['adults'].isnull())\n",
        "print(df['children'].isnull())\n",
        "print(df['babies'].isnull())\n",
        "print(df['meal'].isnull())\n",
        "print(df['country'].isnull())\n",
        "print(df['market_segment'].isnull())\n",
        "print(df['distribution_channel'].isnull())\n",
        "print(df['is_repeated_guest'].isnull())\n",
        "print(df['previous_cancellations'].isnull())\n",
        "print(df['previous_bookings_not_canceled'].isnull())\n",
        "print(df['reserved_room_type'].isnull())\n",
        "print(df['assigned_room_type'] .isnull())\n",
        "print(df['booking_changes'] .isnull())\n",
        "print(df['deposit_type'] .isnull())\n",
        "print(df['agent'] .isnull())\n",
        "print(df['company'] .isnull())\n",
        "print(df['days_in_waiting_list'].isnull()) \n",
        "print(df['customer_type'] .isnull())\n",
        "print(df['adr'] .isnull())\n",
        "print(df['required_car_parking_spaces'].isnull()) \n",
        "print(df['total_of_special_requests'] .isnull())\n",
        "print(df['reservation_status'] .isnull())\n",
        "print(df['reservation_status_date'].isnull())"
      ],
      "execution_count": 0,
      "outputs": []
    },
    {
      "cell_type": "code",
      "metadata": {
        "id": "oNloDGQUIO4D",
        "colab_type": "code",
        "colab": {}
      },
      "source": [
        "df.columns"
      ],
      "execution_count": 0,
      "outputs": []
    },
    {
      "cell_type": "code",
      "metadata": {
        "id": "FJ2-4zw3Mq7h",
        "colab_type": "code",
        "colab": {}
      },
      "source": [
        "print( df.isnull().sum())"
      ],
      "execution_count": 0,
      "outputs": []
    },
    {
      "cell_type": "code",
      "metadata": {
        "id": "Ehd4wOU3HIjW",
        "colab_type": "code",
        "colab": {}
      },
      "source": [
        "print( df.isnull().sum().sum())"
      ],
      "execution_count": 0,
      "outputs": []
    },
    {
      "cell_type": "code",
      "metadata": {
        "id": "gjGSyasGNWFQ",
        "colab_type": "code",
        "colab": {}
      },
      "source": [
        "df['children'].isnull().sum()"
      ],
      "execution_count": 0,
      "outputs": []
    },
    {
      "cell_type": "code",
      "metadata": {
        "id": "rNUL_Nz2OB5M",
        "colab_type": "code",
        "colab": {}
      },
      "source": [
        "median = df['children'].median()\n",
        "df['children'].fillna(median, inplace=True)"
      ],
      "execution_count": 0,
      "outputs": []
    },
    {
      "cell_type": "code",
      "metadata": {
        "id": "94EbUh1pOImz",
        "colab_type": "code",
        "colab": {}
      },
      "source": [
        "df['children'].isnull().sum()"
      ],
      "execution_count": 0,
      "outputs": []
    },
    {
      "cell_type": "code",
      "metadata": {
        "id": "Q-9qYq--Oa4D",
        "colab_type": "code",
        "colab": {}
      },
      "source": [
        "unique=[]\n",
        "for a in df['country']:\n",
        "  if a not in unique:\n",
        "    unique.append(a)\n",
        "print(unique)\n",
        "print(len(unique))"
      ],
      "execution_count": 0,
      "outputs": []
    },
    {
      "cell_type": "code",
      "metadata": {
        "id": "VjKsfjYLOYtW",
        "colab_type": "code",
        "colab": {}
      },
      "source": [
        "df['country'].head()"
      ],
      "execution_count": 0,
      "outputs": []
    },
    {
      "cell_type": "code",
      "metadata": {
        "id": "luAPha5TPZSF",
        "colab_type": "code",
        "colab": {}
      },
      "source": [
        "df.isna"
      ],
      "execution_count": 0,
      "outputs": []
    },
    {
      "cell_type": "code",
      "metadata": {
        "id": "8UDYxW1cPa2P",
        "colab_type": "code",
        "colab": {}
      },
      "source": [
        "df.notna"
      ],
      "execution_count": 0,
      "outputs": []
    },
    {
      "cell_type": "code",
      "metadata": {
        "id": "PC-LNWGqQhvr",
        "colab_type": "code",
        "colab": {}
      },
      "source": [
        "df.describe"
      ],
      "execution_count": 0,
      "outputs": []
    },
    {
      "cell_type": "code",
      "metadata": {
        "id": "vh1v8SGlSXIq",
        "colab_type": "code",
        "colab": {}
      },
      "source": [
        "df.head()"
      ],
      "execution_count": 0,
      "outputs": []
    },
    {
      "cell_type": "code",
      "metadata": {
        "id": "GIgmm8g-SsZd",
        "colab_type": "code",
        "colab": {}
      },
      "source": [
        "df.columns"
      ],
      "execution_count": 0,
      "outputs": []
    },
    {
      "cell_type": "code",
      "metadata": {
        "id": "SzpzHim2Ram3",
        "colab_type": "code",
        "colab": {}
      },
      "source": [
        "from numpy import nan\n",
        "from pandas import read_csv\n",
        "from sklearn.discriminant_analysis import LinearDiscriminantAnalysis\n",
        "from sklearn.model_selection import KFold\n",
        "from sklearn.model_selection import cross_val_score\n",
        "\n",
        "\n",
        "values = df.values\n",
        "X = values[:,0:31]\n",
        "y = values[:,0:31]\n",
        "# define the model\n",
        "model = LinearDiscriminantAnalysis()\n",
        "# define the model evaluation procedure\n",
        "cv = KFold(n_splits=3, shuffle=True, random_state=1)\n",
        "# evaluate the model\n",
        "result = cross_val_score(model, X, y, cv=cv, scoring='accuracy')\n",
        "# report the mean performance\n",
        "print('Accuracy: %.3f' % result.mean())"
      ],
      "execution_count": 0,
      "outputs": []
    },
    {
      "cell_type": "code",
      "metadata": {
        "id": "uTVQ8mpvVHuI",
        "colab_type": "code",
        "colab": {}
      },
      "source": [
        "df2 = df[[column for column in df if df[column].count() / len(df) >= 0.3]]\n",
        "#del df2['Id']\n",
        "print(\"List of dropped columns:\", end=\" \")\n",
        "for c in df.columns:\n",
        "    if c not in df2.columns:\n",
        "        print(c, end=\", \")\n",
        "print('\\n')\n",
        "df = df2"
      ],
      "execution_count": 0,
      "outputs": []
    },
    {
      "cell_type": "code",
      "metadata": {
        "id": "uNWpx7ncVHow",
        "colab_type": "code",
        "colab": {}
      },
      "source": [
        "import seaborn as sns\n",
        "print(df['lead_time'].describe())\n",
        "plt.figure(figsize=(9, 8))\n",
        "sns.distplot(df['lead_time'], color='g', bins=100, hist_kws={'alpha': 0.4});"
      ],
      "execution_count": 0,
      "outputs": []
    },
    {
      "cell_type": "code",
      "metadata": {
        "id": "cFDwjQMRVHiW",
        "colab_type": "code",
        "colab": {}
      },
      "source": [
        "\n",
        "list(set(df.dtypes.tolist()))"
      ],
      "execution_count": 0,
      "outputs": []
    },
    {
      "cell_type": "code",
      "metadata": {
        "id": "0lpF4jykVHGC",
        "colab_type": "code",
        "colab": {}
      },
      "source": [
        "df_num = df.select_dtypes(include = ['float64', 'int64'])\n",
        "print(df_num.head())"
      ],
      "execution_count": 0,
      "outputs": []
    },
    {
      "cell_type": "code",
      "metadata": {
        "id": "ikq0gVd4WFNx",
        "colab_type": "code",
        "colab": {}
      },
      "source": [
        "df_num.hist(figsize=(16, 20), bins=50, xlabelsize=8, ylabelsize=8); # ; avoid having the matplotlib verbose informations"
      ],
      "execution_count": 0,
      "outputs": []
    },
    {
      "cell_type": "code",
      "metadata": {
        "id": "PCMU6O4lWfqs",
        "colab_type": "code",
        "colab": {}
      },
      "source": [
        "df_num_corr = df_num.corr()['arrival_date_day_of_month'][:-1] # -1 because the latest row is SalePrice\n",
        "golden_features_list = df_num_corr[abs(df_num_corr) > 0.5].sort_values(ascending=False)\n",
        "print(\"There is {} strongly correlated values with arrival_date_day_of_month:\\n{}\".format(len(golden_features_list), golden_features_list))"
      ],
      "execution_count": 0,
      "outputs": []
    },
    {
      "cell_type": "code",
      "metadata": {
        "id": "EJSjv0dCw9YV",
        "colab_type": "code",
        "colab": {}
      },
      "source": [
        "df.head()"
      ],
      "execution_count": 0,
      "outputs": []
    },
    {
      "cell_type": "code",
      "metadata": {
        "id": "8QlMAyYMxQDn",
        "colab_type": "code",
        "colab": {}
      },
      "source": [
        "cdf = df[['meal', 'reserved_room_type', 'assigned_room_type','customer_type']]"
      ],
      "execution_count": 0,
      "outputs": []
    },
    {
      "cell_type": "code",
      "metadata": {
        "id": "y_1uZ-ZkxzKQ",
        "colab_type": "code",
        "colab": {}
      },
      "source": [
        "cdf.head()"
      ],
      "execution_count": 0,
      "outputs": []
    },
    {
      "cell_type": "code",
      "metadata": {
        "id": "XMzn2Hb1yvHx",
        "colab_type": "code",
        "colab": {}
      },
      "source": [
        "unique=[]\n",
        "for a in df['meal']:\n",
        "  if a not in unique:\n",
        "    unique.append(a)\n",
        "print(unique)"
      ],
      "execution_count": 0,
      "outputs": []
    },
    {
      "cell_type": "code",
      "metadata": {
        "id": "3qFZSgAHKHYn",
        "colab_type": "code",
        "colab": {}
      },
      "source": [
        "bb=[]\n",
        "fb =[]\n",
        "hb = []\n",
        "sc = []\n",
        "undef=[]\n",
        "for a in df.meal:\n",
        "  if a=='BB':\n",
        "    bb.append(a)\n",
        "  elif a=='FB':\n",
        "    fb.append(a)\n",
        "  elif a=='HB':\n",
        "    hb.append(a)\n",
        "  elif a=='SC':\n",
        "    sc.append(a)\n",
        "  else:\n",
        "    undef.append(a)\n",
        "\n"
      ],
      "execution_count": 0,
      "outputs": []
    },
    {
      "cell_type": "code",
      "metadata": {
        "id": "mDl-L7NDLuvx",
        "colab_type": "code",
        "colab": {}
      },
      "source": [
        "len(df)"
      ],
      "execution_count": 0,
      "outputs": []
    },
    {
      "cell_type": "code",
      "metadata": {
        "id": "wyymtQMtLF7D",
        "colab_type": "code",
        "colab": {}
      },
      "source": [
        "print(len(bb))"
      ],
      "execution_count": 0,
      "outputs": []
    },
    {
      "cell_type": "code",
      "metadata": {
        "id": "LbwiKS4cL0YD",
        "colab_type": "code",
        "colab": {}
      },
      "source": [
        "print(92310/119390)"
      ],
      "execution_count": 0,
      "outputs": []
    },
    {
      "cell_type": "code",
      "metadata": {
        "id": "lQfAvOLrLLK-",
        "colab_type": "code",
        "colab": {}
      },
      "source": [
        "print(len(fb))"
      ],
      "execution_count": 0,
      "outputs": []
    },
    {
      "cell_type": "code",
      "metadata": {
        "id": "6v80pof2LNFc",
        "colab_type": "code",
        "colab": {}
      },
      "source": [
        "print(len(hb))"
      ],
      "execution_count": 0,
      "outputs": []
    },
    {
      "cell_type": "code",
      "metadata": {
        "id": "Eq87T7a3MKBc",
        "colab_type": "code",
        "colab": {}
      },
      "source": [
        "print(14463/119390)"
      ],
      "execution_count": 0,
      "outputs": []
    },
    {
      "cell_type": "code",
      "metadata": {
        "id": "xNF20FPmMNOM",
        "colab_type": "code",
        "colab": {}
      },
      "source": [
        ""
      ],
      "execution_count": 0,
      "outputs": []
    },
    {
      "cell_type": "code",
      "metadata": {
        "id": "BfGxfKQXLPBJ",
        "colab_type": "code",
        "colab": {}
      },
      "source": [
        "print(len(sc))"
      ],
      "execution_count": 0,
      "outputs": []
    },
    {
      "cell_type": "code",
      "metadata": {
        "id": "I3Qm2Q0DLQSV",
        "colab_type": "code",
        "colab": {}
      },
      "source": [
        "print(len(undef))"
      ],
      "execution_count": 0,
      "outputs": []
    },
    {
      "cell_type": "code",
      "metadata": {
        "id": "-GetrivnLSwX",
        "colab_type": "code",
        "colab": {}
      },
      "source": [
        ""
      ],
      "execution_count": 0,
      "outputs": []
    },
    {
      "cell_type": "code",
      "metadata": {
        "id": "KIAtNvzk1JK7",
        "colab_type": "code",
        "colab": {}
      },
      "source": [
        "print(len(cdf['meal']=='Undefined'))"
      ],
      "execution_count": 0,
      "outputs": []
    },
    {
      "cell_type": "code",
      "metadata": {
        "id": "sgtHtC141Ufr",
        "colab_type": "code",
        "colab": {}
      },
      "source": [
        "print(len(df))"
      ],
      "execution_count": 0,
      "outputs": []
    },
    {
      "cell_type": "code",
      "metadata": {
        "id": "O0HCEQn4zaYE",
        "colab_type": "code",
        "colab": {}
      },
      "source": [
        "cdf['meal']"
      ],
      "execution_count": 0,
      "outputs": []
    },
    {
      "cell_type": "code",
      "metadata": {
        "id": "B4OBSjaE0wo_",
        "colab_type": "code",
        "colab": {}
      },
      "source": [
        "cdf.meal[cdf.meal == 'BB'] = 1\n",
        "cdf.meal[cdf.meal == 'FB'] = 2\n",
        "cdf.meal[cdf.meal == 'HB'] = 3\n",
        "cdf.meal[cdf.meal == 'SC'] = 4\n",
        "cdf.meal[cdf.meal == 'Undefined'] = 0\n"
      ],
      "execution_count": 0,
      "outputs": []
    },
    {
      "cell_type": "code",
      "metadata": {
        "id": "m5Pfa_ZJ2Xdo",
        "colab_type": "code",
        "colab": {}
      },
      "source": [
        ""
      ],
      "execution_count": 0,
      "outputs": []
    },
    {
      "cell_type": "code",
      "metadata": {
        "id": "L-jB49O72VLQ",
        "colab_type": "code",
        "colab": {}
      },
      "source": [
        "print(cdf['meal'])"
      ],
      "execution_count": 0,
      "outputs": []
    },
    {
      "cell_type": "code",
      "metadata": {
        "id": "d9Dt9c1ozB5Y",
        "colab_type": "code",
        "colab": {}
      },
      "source": [
        "unique=[]\n",
        "for a in df['reserved_room_type']:\n",
        "  if a not in unique:\n",
        "    unique.append(a)\n",
        "print(unique)"
      ],
      "execution_count": 0,
      "outputs": []
    },
    {
      "cell_type": "code",
      "metadata": {
        "id": "lY94TtJCM2Xx",
        "colab_type": "code",
        "colab": {}
      },
      "source": [
        ""
      ],
      "execution_count": 0,
      "outputs": []
    },
    {
      "cell_type": "code",
      "metadata": {
        "id": "tRKiV9B_2koh",
        "colab_type": "code",
        "colab": {}
      },
      "source": [
        "cdf.reserved_room_type[cdf.reserved_room_type == 'A'] = 1\n",
        "cdf.reserved_room_type[cdf.reserved_room_type == 'B'] = 2\n",
        "cdf.reserved_room_type[cdf.reserved_room_type == 'C'] = 3\n",
        "cdf.reserved_room_type[cdf.reserved_room_type == 'D'] = 4\n",
        "cdf.reserved_room_type[cdf.reserved_room_type == 'E'] = 5\n",
        "cdf.reserved_room_type[cdf.reserved_room_type == 'F'] = 6\n",
        "cdf.reserved_room_type[cdf.reserved_room_type == 'G'] = 7\n",
        "cdf.reserved_room_type[cdf.reserved_room_type == 'H'] = 8\n",
        "cdf.reserved_room_type[cdf.reserved_room_type == 'L'] = 9\n",
        "cdf.reserved_room_type[cdf.reserved_room_type == 'P'] = 0"
      ],
      "execution_count": 0,
      "outputs": []
    },
    {
      "cell_type": "code",
      "metadata": {
        "id": "GwaFEIj4M0MC",
        "colab_type": "code",
        "colab": {}
      },
      "source": [
        "x=119390\n",
        "one=[]\n",
        "two =[]\n",
        "three = []\n",
        "four = []\n",
        "five=[]\n",
        "six=[]\n",
        "seven=[]\n",
        "eight=[]\n",
        "nine=[]\n",
        "zero=[]\n",
        "for a in cdf.reserved_room_type:\n",
        "  if a== 0:\n",
        "    zero.append(a)\n",
        "  elif a==1:\n",
        "    one.append(a)\n",
        "  elif a== 2:\n",
        "    two.append(a)\n",
        "  elif a== 3:\n",
        "    three.append(a)\n",
        "  elif a== 4:\n",
        "    four.append(a)\n",
        "  elif a== 5:\n",
        "    five.append(a)\n",
        "  elif a== 6:\n",
        "    six.append(a)\n",
        "  elif a== 7:\n",
        "    seven.append(a)\n",
        "  elif a== 8:\n",
        "    eight.append(a)\n",
        "  elif a== 9:\n",
        "    nine.append(a)\n",
        "  \n",
        "print(\"1 = \",len(one),(len(one))/x)\n",
        "print(\"0 = \",len(zero),(len(zero))/x)\n",
        "print(\"2 = \",len(two),(len(two))/x)\n",
        "print(\"3 = \",len(three),(len(three))/x)\n",
        "print(\"4 = \",len(four),(len(four))/x)\n",
        "print(\"5 = \",len(five),(len(five))/x)\n",
        "print(\"6 = \",len(six),(len(six))/x)\n",
        "print(\"7 = \",len(seven),(len(seven))/x)\n",
        "print(\"8 = \",len(eight),(len(eight))/x)\n",
        "print(\"9 = \",len(nine),(len(nine))/x)\n",
        "\n",
        "\n",
        "\n",
        "\n",
        "\n",
        "\n",
        "\n",
        "\n",
        "\n",
        "\n",
        "\n",
        "\n",
        "\n",
        "\n",
        "\n",
        "\n",
        "\n",
        "\n",
        "\n",
        "\n",
        "\n"
      ],
      "execution_count": 0,
      "outputs": []
    },
    {
      "cell_type": "code",
      "metadata": {
        "id": "V5tVUWROM0I1",
        "colab_type": "code",
        "colab": {}
      },
      "source": [
        ""
      ],
      "execution_count": 0,
      "outputs": []
    },
    {
      "cell_type": "code",
      "metadata": {
        "id": "iWwjpPL5M0G7",
        "colab_type": "code",
        "colab": {}
      },
      "source": [
        ""
      ],
      "execution_count": 0,
      "outputs": []
    },
    {
      "cell_type": "code",
      "metadata": {
        "id": "PYQnQFzaM0FG",
        "colab_type": "code",
        "colab": {}
      },
      "source": [
        ""
      ],
      "execution_count": 0,
      "outputs": []
    },
    {
      "cell_type": "code",
      "metadata": {
        "id": "8dZ1irrcM0Ch",
        "colab_type": "code",
        "colab": {}
      },
      "source": [
        ""
      ],
      "execution_count": 0,
      "outputs": []
    },
    {
      "cell_type": "code",
      "metadata": {
        "id": "isrdAyuQM0Aj",
        "colab_type": "code",
        "colab": {}
      },
      "source": [
        ""
      ],
      "execution_count": 0,
      "outputs": []
    },
    {
      "cell_type": "code",
      "metadata": {
        "id": "lOdkFi6ZMz9J",
        "colab_type": "code",
        "colab": {}
      },
      "source": [
        ""
      ],
      "execution_count": 0,
      "outputs": []
    },
    {
      "cell_type": "code",
      "metadata": {
        "id": "z1s6LHft2kk7",
        "colab_type": "code",
        "colab": {}
      },
      "source": [
        "cdf['reserved_room_type']"
      ],
      "execution_count": 0,
      "outputs": []
    },
    {
      "cell_type": "code",
      "metadata": {
        "id": "VK1szxzS2kiG",
        "colab_type": "code",
        "colab": {}
      },
      "source": [
        ""
      ],
      "execution_count": 0,
      "outputs": []
    },
    {
      "cell_type": "code",
      "metadata": {
        "id": "9j5uAT7n2kUX",
        "colab_type": "code",
        "colab": {}
      },
      "source": [
        ""
      ],
      "execution_count": 0,
      "outputs": []
    },
    {
      "cell_type": "code",
      "metadata": {
        "id": "gSdltW1szE-o",
        "colab_type": "code",
        "colab": {}
      },
      "source": [
        "unique=[]\n",
        "for a in df['assigned_room_type']:\n",
        "  if a not in unique:\n",
        "    unique.append(a)\n",
        "print(unique)"
      ],
      "execution_count": 0,
      "outputs": []
    },
    {
      "cell_type": "code",
      "metadata": {
        "id": "oGxDYGoL3qUA",
        "colab_type": "code",
        "colab": {}
      },
      "source": [
        "cdf.assigned_room_type[cdf.assigned_room_type == 'A'] = 1\n",
        "cdf.assigned_room_type[cdf.assigned_room_type == 'B'] = 2\n",
        "cdf.assigned_room_type[cdf.assigned_room_type == 'C'] = 3\n",
        "cdf.assigned_room_type[cdf.assigned_room_type == 'D'] = 4\n",
        "cdf.assigned_room_type[cdf.assigned_room_type == 'E'] = 5\n",
        "cdf.assigned_room_type[cdf.assigned_room_type == 'F'] = 6\n",
        "cdf.assigned_room_type[cdf.assigned_room_type == 'G'] = 7\n",
        "cdf.assigned_room_type[cdf.assigned_room_type == 'H'] = 8\n",
        "cdf.assigned_room_type[cdf.assigned_room_type == 'I'] = 9\n",
        "cdf.assigned_room_type[cdf.assigned_room_type == 'K'] = 10\n",
        "cdf.assigned_room_type[cdf.assigned_room_type == 'L'] = 11\n",
        "cdf.assigned_room_type[cdf.assigned_room_type == 'P'] = 12"
      ],
      "execution_count": 0,
      "outputs": []
    },
    {
      "cell_type": "code",
      "metadata": {
        "id": "hszc5CHsQm9P",
        "colab_type": "code",
        "colab": {}
      },
      "source": [
        "x=119390\n",
        "one=[]\n",
        "two =[]\n",
        "three = []\n",
        "four = []\n",
        "five=[]\n",
        "six=[]\n",
        "seven=[]\n",
        "eight=[]\n",
        "nine=[]\n",
        "ten=[]\n",
        "eleven=[]\n",
        "twelve=[]\n",
        "for a in cdf.assigned_room_type:\n",
        "  if a== 10:\n",
        "    ten.append(a)\n",
        "  elif a==1:\n",
        "    one.append(a)\n",
        "  elif a== 2:\n",
        "    two.append(a)\n",
        "  elif a== 3:\n",
        "    three.append(a)\n",
        "  elif a== 4:\n",
        "    four.append(a)\n",
        "  elif a== 5:\n",
        "    five.append(a)\n",
        "  elif a== 6:\n",
        "    six.append(a)\n",
        "  elif a== 7:\n",
        "    seven.append(a)\n",
        "  elif a== 8:\n",
        "    eight.append(a)\n",
        "  elif a== 9:\n",
        "    nine.append(a)\n",
        "  elif a==11:\n",
        "    eleven.append(a)\n",
        "  elif a ==12:\n",
        "    twelve.append(a)\n",
        "  \n",
        "print(\"1 = \",len(one),(len(one))/x)\n",
        "print(\"10 = \",len(ten),(len(ten))/x)\n",
        "print(\"2 = \",len(two),(len(two))/x)\n",
        "print(\"3 = \",len(three),(len(three))/x)\n",
        "print(\"4 = \",len(four),(len(four))/x)\n",
        "print(\"5 = \",len(five),(len(five))/x)\n",
        "print(\"6 = \",len(six),(len(six))/x)\n",
        "print(\"7 = \",len(seven),(len(seven))/x)\n",
        "print(\"8 = \",len(eight),(len(eight))/x)\n",
        "print(\"9 = \",len(nine),(len(nine))/x)\n",
        "print(\"11 = \",len(eleven),(len(eleven))/x)\n",
        "print(\"12 = \",len(twelve),(len(twelve))/x)"
      ],
      "execution_count": 0,
      "outputs": []
    },
    {
      "cell_type": "code",
      "metadata": {
        "id": "ZTnMwhvP3qQV",
        "colab_type": "code",
        "colab": {}
      },
      "source": [
        "cdf['assigned_room_type']"
      ],
      "execution_count": 0,
      "outputs": []
    },
    {
      "cell_type": "code",
      "metadata": {
        "id": "JbjuI9Ue3qN3",
        "colab_type": "code",
        "colab": {}
      },
      "source": [
        ""
      ],
      "execution_count": 0,
      "outputs": []
    },
    {
      "cell_type": "code",
      "metadata": {
        "id": "-Au_TiQA3qLD",
        "colab_type": "code",
        "colab": {}
      },
      "source": [
        ""
      ],
      "execution_count": 0,
      "outputs": []
    },
    {
      "cell_type": "code",
      "metadata": {
        "id": "0eF7VVLl3qIB",
        "colab_type": "code",
        "colab": {}
      },
      "source": [
        ""
      ],
      "execution_count": 0,
      "outputs": []
    },
    {
      "cell_type": "code",
      "metadata": {
        "id": "zisfuqApzQhP",
        "colab_type": "code",
        "colab": {}
      },
      "source": [
        "unique=[]\n",
        "for a in df['customer_type']:\n",
        "  if a not in unique:\n",
        "    unique.append(a)\n",
        "print(unique)"
      ],
      "execution_count": 0,
      "outputs": []
    },
    {
      "cell_type": "code",
      "metadata": {
        "id": "QSsSEignzTVn",
        "colab_type": "code",
        "colab": {}
      },
      "source": [
        "cdf.customer_type[cdf.customer_type == 'Transient'] = 1\n",
        "cdf.customer_type[cdf.customer_type == 'Contract'] = 2\n",
        "cdf.customer_type[cdf.customer_type == 'Transient-Party'] = 3\n",
        "cdf.customer_type[cdf.customer_type == 'Group'] = 4"
      ],
      "execution_count": 0,
      "outputs": []
    },
    {
      "cell_type": "code",
      "metadata": {
        "id": "7GcjXCcc405A",
        "colab_type": "code",
        "colab": {}
      },
      "source": [
        "cdf['customer_type']"
      ],
      "execution_count": 0,
      "outputs": []
    },
    {
      "cell_type": "code",
      "metadata": {
        "id": "z4hGm1keSFW0",
        "colab_type": "code",
        "colab": {}
      },
      "source": [
        "x=119390\n",
        "one=[]\n",
        "two =[]\n",
        "three = []\n",
        "four = []\n",
        "\n",
        "for a in cdf.customer_type:\n",
        "  if a== 1:\n",
        "    one.append(a)\n",
        "  elif a==2:\n",
        "    two.append(a)\n",
        "  elif a== 3:\n",
        "    three.append(a)\n",
        "  elif a== 4:\n",
        "    four.append(a)\n",
        "\n",
        " \n",
        "print(\"1 = \",len(one),(len(one))/x)\n",
        "print(\"2 = \",len(two),(len(two))/x)\n",
        "print(\"3 = \",len(three),(len(three))/x)\n",
        "print(\"4 = \",len(four),(len(four))/x)\n"
      ],
      "execution_count": 0,
      "outputs": []
    },
    {
      "cell_type": "code",
      "metadata": {
        "id": "ThJM6OEg401l",
        "colab_type": "code",
        "colab": {}
      },
      "source": [
        "cdf.isnull().sum()"
      ],
      "execution_count": 0,
      "outputs": []
    },
    {
      "cell_type": "code",
      "metadata": {
        "id": "chZvLJ1d5bN9",
        "colab_type": "code",
        "colab": {}
      },
      "source": [
        "cdf.shape"
      ],
      "execution_count": 0,
      "outputs": []
    },
    {
      "cell_type": "code",
      "metadata": {
        "id": "4J4ky-zE5W24",
        "colab_type": "code",
        "colab": {}
      },
      "source": [
        "from numpy import nan\n",
        "from pandas import read_csv\n",
        "from sklearn.discriminant_analysis import LinearDiscriminantAnalysis\n",
        "from sklearn.model_selection import KFold\n",
        "from sklearn.model_selection import cross_val_score\n",
        "\n",
        "\n",
        "values = cdf.values\n",
        "X = values[:,0:4]\n",
        "y = values[:,0:4]\n",
        "# define the model\n",
        "model = LinearDiscriminantAnalysis()\n",
        "# define the model evaluation procedure\n",
        "cv = KFold(n_splits=3, shuffle=True, random_state=1)\n",
        "# evaluate the model\n",
        "result = cross_val_score(model, X, y, cv=cv, scoring='accuracy')\n",
        "# report the mean performance\n",
        "print('Accuracy: %.3f' % result.mean())"
      ],
      "execution_count": 0,
      "outputs": []
    },
    {
      "cell_type": "code",
      "metadata": {
        "id": "sNVXnqk35nKf",
        "colab_type": "code",
        "colab": {}
      },
      "source": [
        "cdf.head()"
      ],
      "execution_count": 0,
      "outputs": []
    },
    {
      "cell_type": "code",
      "metadata": {
        "id": "r3aTLPs-5q5g",
        "colab_type": "code",
        "colab": {}
      },
      "source": [
        "cdf = cdf[['meal', 'reserved_room_type', 'assigned_room_type','customer_type']]"
      ],
      "execution_count": 0,
      "outputs": []
    },
    {
      "cell_type": "code",
      "metadata": {
        "id": "Nl7PoKR759LO",
        "colab_type": "code",
        "colab": {}
      },
      "source": [
        "cdf.head()"
      ],
      "execution_count": 0,
      "outputs": []
    },
    {
      "cell_type": "code",
      "metadata": {
        "id": "QPyOUci15-K-",
        "colab_type": "code",
        "colab": {}
      },
      "source": [
        "plt.scatter(cdf.reserved_room_type, cdf.customer_type)\n",
        "plt.xlabel('customer_type')\n",
        "plt.ylabel('reserved_room_type')\n",
        "plt.show()"
      ],
      "execution_count": 0,
      "outputs": []
    },
    {
      "cell_type": "code",
      "metadata": {
        "id": "1ysW7eeA637W",
        "colab_type": "code",
        "colab": {}
      },
      "source": [
        "plt.scatter(cdf.meal, cdf.customer_type)\n",
        "plt.xlabel('customer_type')\n",
        "plt.ylabel('meal')\n",
        "plt.show()"
      ],
      "execution_count": 0,
      "outputs": []
    },
    {
      "cell_type": "code",
      "metadata": {
        "id": "gH0dOKnu666m",
        "colab_type": "code",
        "colab": {}
      },
      "source": [
        "plt.scatter(cdf.meal, cdf.customer_type)\n",
        "plt.xlabel('customer_type')\n",
        "plt.ylabel('meal')\n",
        "plt.show()"
      ],
      "execution_count": 0,
      "outputs": []
    },
    {
      "cell_type": "markdown",
      "metadata": {
        "id": "t3HGP8NwEJuq",
        "colab_type": "text"
      },
      "source": [
        "MEAN"
      ]
    },
    {
      "cell_type": "code",
      "metadata": {
        "id": "bINGAEfqEIUz",
        "colab_type": "code",
        "colab": {}
      },
      "source": [
        ""
      ],
      "execution_count": 0,
      "outputs": []
    },
    {
      "cell_type": "code",
      "metadata": {
        "id": "a3iI5u_wEIQw",
        "colab_type": "code",
        "colab": {}
      },
      "source": [
        ""
      ],
      "execution_count": 0,
      "outputs": []
    },
    {
      "cell_type": "code",
      "metadata": {
        "id": "RNF2NedGEIE-",
        "colab_type": "code",
        "colab": {}
      },
      "source": [
        ""
      ],
      "execution_count": 0,
      "outputs": []
    },
    {
      "cell_type": "code",
      "metadata": {
        "id": "Cr6aXpHY76Kc",
        "colab_type": "code",
        "colab": {}
      },
      "source": [
        "#corelation"
      ],
      "execution_count": 0,
      "outputs": []
    },
    {
      "cell_type": "code",
      "metadata": {
        "id": "KrdS0hZm78jw",
        "colab_type": "code",
        "colab": {}
      },
      "source": [
        "meal = []\n",
        "for a in cdf.meal:\n",
        "  meal.append(a)"
      ],
      "execution_count": 0,
      "outputs": []
    },
    {
      "cell_type": "code",
      "metadata": {
        "id": "yDINMDK48eXt",
        "colab_type": "code",
        "colab": {}
      },
      "source": [
        "cdf.head()"
      ],
      "execution_count": 0,
      "outputs": []
    },
    {
      "cell_type": "code",
      "metadata": {
        "id": "N_2L2shG8ieK",
        "colab_type": "code",
        "colab": {}
      },
      "source": [
        "reserved_room_types = []\n",
        "for a in cdf.reserved_room_type:\n",
        "  reserved_room_types.append(a)"
      ],
      "execution_count": 0,
      "outputs": []
    },
    {
      "cell_type": "code",
      "metadata": {
        "id": "y06qlF808xZI",
        "colab_type": "code",
        "colab": {}
      },
      "source": [
        "assigned_room_types=[]\n",
        "for a in cdf.assigned_room_type:\n",
        "  assigned_room_types.append(a)"
      ],
      "execution_count": 0,
      "outputs": []
    },
    {
      "cell_type": "code",
      "metadata": {
        "id": "-WDTXtc89B-E",
        "colab_type": "code",
        "colab": {}
      },
      "source": [
        "customer_types=[]\n",
        "for a in cdf.customer_type:\n",
        "  customer_types.append(a)"
      ],
      "execution_count": 0,
      "outputs": []
    },
    {
      "cell_type": "code",
      "metadata": {
        "id": "nXxwAE0P9Nb2",
        "colab_type": "code",
        "colab": {}
      },
      "source": [
        "len(meal)"
      ],
      "execution_count": 0,
      "outputs": []
    },
    {
      "cell_type": "markdown",
      "metadata": {
        "id": "o6jmCprCEbOs",
        "colab_type": "text"
      },
      "source": [
        "ANALYSIS"
      ]
    },
    {
      "cell_type": "markdown",
      "metadata": {
        "id": "oA1sjio6Ea_E",
        "colab_type": "text"
      },
      "source": [
        ""
      ]
    },
    {
      "cell_type": "code",
      "metadata": {
        "id": "BjRGDeLDEZjp",
        "colab_type": "code",
        "colab": {}
      },
      "source": [
        "np.mean(reserved_room_types)"
      ],
      "execution_count": 0,
      "outputs": []
    },
    {
      "cell_type": "code",
      "metadata": {
        "id": "FND-qVLDEh1C",
        "colab_type": "code",
        "colab": {}
      },
      "source": [
        "np.mean(customer_types)"
      ],
      "execution_count": 0,
      "outputs": []
    },
    {
      "cell_type": "code",
      "metadata": {
        "id": "eJBQuiWwEp2F",
        "colab_type": "code",
        "colab": {}
      },
      "source": [
        "np.mean(assigned_room_types)"
      ],
      "execution_count": 0,
      "outputs": []
    },
    {
      "cell_type": "code",
      "metadata": {
        "id": "cn96KkNkEuCo",
        "colab_type": "code",
        "colab": {}
      },
      "source": [
        "np.mean(meal)"
      ],
      "execution_count": 0,
      "outputs": []
    },
    {
      "cell_type": "code",
      "metadata": {
        "id": "QBo12MzNEwLe",
        "colab_type": "code",
        "colab": {}
      },
      "source": [
        ""
      ],
      "execution_count": 0,
      "outputs": []
    },
    {
      "cell_type": "code",
      "metadata": {
        "id": "Y8l1m3eI9PF1",
        "colab_type": "code",
        "colab": {}
      },
      "source": [
        "len(reserved_room_types)"
      ],
      "execution_count": 0,
      "outputs": []
    },
    {
      "cell_type": "code",
      "metadata": {
        "id": "a69Tvrh39T5A",
        "colab_type": "code",
        "colab": {}
      },
      "source": [
        "len(assigned_room_types)"
      ],
      "execution_count": 0,
      "outputs": []
    },
    {
      "cell_type": "code",
      "metadata": {
        "id": "Iz8zVm379WJg",
        "colab_type": "code",
        "colab": {}
      },
      "source": [
        "len(customer_types)"
      ],
      "execution_count": 0,
      "outputs": []
    },
    {
      "cell_type": "code",
      "metadata": {
        "id": "R7597AO39X7s",
        "colab_type": "code",
        "colab": {}
      },
      "source": [
        "np_meal=np.array(meal)\n",
        "np_reservedroomtype=np.array(reserved_room_types)\n",
        "np_assignedroomtype=np.array(assigned_room_types)\n",
        "np_customertype=np.array(customer_types)"
      ],
      "execution_count": 0,
      "outputs": []
    },
    {
      "cell_type": "code",
      "metadata": {
        "id": "BLafV4y79zPK",
        "colab_type": "code",
        "colab": {}
      },
      "source": [
        "a=np.corrcoef(np_meal,np_customertype)\n",
        "a[0, 1]"
      ],
      "execution_count": 0,
      "outputs": []
    },
    {
      "cell_type": "code",
      "metadata": {
        "id": "mdDHo2JD983a",
        "colab_type": "code",
        "colab": {}
      },
      "source": [
        "b=np.corrcoef(np_meal, np_assignedroomtype)\n",
        "b[0, 1]"
      ],
      "execution_count": 0,
      "outputs": []
    },
    {
      "cell_type": "code",
      "metadata": {
        "id": "UHYPQIWc-D96",
        "colab_type": "code",
        "colab": {}
      },
      "source": [
        "c=np.corrcoef( np_assignedroomtype,np_customertype)\n",
        "c[0, 1]"
      ],
      "execution_count": 0,
      "outputs": []
    },
    {
      "cell_type": "code",
      "metadata": {
        "id": "VT2M8bjm-5j9",
        "colab_type": "code",
        "colab": {}
      },
      "source": [
        "cdf_num = cdf.select_dtypes(include = ['float64', 'int64'])\n",
        "print(cdf_num.head())"
      ],
      "execution_count": 0,
      "outputs": []
    },
    {
      "cell_type": "code",
      "metadata": {
        "id": "CUrKHiQg_Dkq",
        "colab_type": "code",
        "colab": {}
      },
      "source": [
        "#Linear Regression\n",
        "msk= np.random.rand(len(cdf)) < 0.8\n",
        "train=cdf[msk]\n",
        "test=cdf[~msk]"
      ],
      "execution_count": 0,
      "outputs": []
    },
    {
      "cell_type": "code",
      "metadata": {
        "id": "P5pSPmEF_WTB",
        "colab_type": "code",
        "colab": {}
      },
      "source": [
        "len(train)\n"
      ],
      "execution_count": 0,
      "outputs": []
    },
    {
      "cell_type": "code",
      "metadata": {
        "id": "NZtd1zr__s7c",
        "colab_type": "code",
        "colab": {}
      },
      "source": [
        "cdf.head()"
      ],
      "execution_count": 0,
      "outputs": []
    },
    {
      "cell_type": "code",
      "metadata": {
        "id": "tv8aPwoP_YZw",
        "colab_type": "code",
        "colab": {}
      },
      "source": [
        "len(test)"
      ],
      "execution_count": 0,
      "outputs": []
    },
    {
      "cell_type": "markdown",
      "metadata": {
        "id": "YFw1sPjYAcj-",
        "colab_type": "text"
      },
      "source": [
        "Linear regressioin between Meal and Customer type\n",
        "\n"
      ]
    },
    {
      "cell_type": "code",
      "metadata": {
        "id": "1jEOcJGqAmm9",
        "colab_type": "code",
        "colab": {}
      },
      "source": [
        "\"\"\"Multiple Linear Regression\"\"\"\n",
        "\n",
        "from sklearn import linear_model\n",
        "regr=linear_model.LinearRegression()\n",
        "x= np.asanyarray(train[['meal']])\n",
        "y=np.asanyarray(train[['customer_type']])\n",
        "regr.fit(x,y)\n",
        "print(\"regression coefficeints\", regr.coef_)\n",
        "\n",
        "\"\"\"Prediction\"\"\"\n",
        "\n",
        "yhat = regr.predict(test[['meal']])\n",
        "x = np.asanyarray(test[['meal']])\n",
        "y= np.asanyarray(test[['customer_type']])\n",
        "print('residual sum of squares %.2F'% np.mean((yhat - y)**2))\n",
        "print('variance score %.2F'% regr.score(x,y))"
      ],
      "execution_count": 0,
      "outputs": []
    },
    {
      "cell_type": "code",
      "metadata": {
        "id": "LoJc22xhAvjx",
        "colab_type": "code",
        "colab": {}
      },
      "source": [
        "\"\"\"Multiple Linear Regression\"\"\"\n",
        "\n",
        "from sklearn import linear_model\n",
        "regr=linear_model.LinearRegression()\n",
        "x= np.asanyarray(train[['reserved_room_type']])\n",
        "y=np.asanyarray(train[['meal']])\n",
        "regr.fit(x,y)\n",
        "print(\"regression coefficeints\", regr.coef_)\n",
        "\n",
        "\"\"\"Prediction\"\"\"\n",
        "\n",
        "yhat = regr.predict(test[['reserved_room_type']])\n",
        "x = np.asanyarray(test[['reserved_room_type']])\n",
        "y= np.asanyarray(test[['meal']])\n",
        "print('residual sum of squares %.2F'% np.mean((yhat - y)**2))\n",
        "print('variance score %.2F'% regr.score(x,y))"
      ],
      "execution_count": 0,
      "outputs": []
    },
    {
      "cell_type": "code",
      "metadata": {
        "id": "RdIpAErNA_Pw",
        "colab_type": "code",
        "colab": {}
      },
      "source": [
        "\"\"\"Multiple Linear Regression\"\"\"\n",
        "\n",
        "from sklearn import linear_model\n",
        "regr=linear_model.LinearRegression()\n",
        "x= np.asanyarray(train[['reserved_room_type','assigned_room_type','customer_type']])\n",
        "y=np.asanyarray(train[['meal']])\n",
        "regr.fit(x,y)\n",
        "print(\"regression coefficeints\", regr.coef_)\n",
        "\n",
        "\"\"\"Prediction\"\"\"\n",
        "\n",
        "yhat = regr.predict(test[['reserved_room_type','assigned_room_type','customer_type']])\n",
        "x = np.asanyarray(test[['reserved_room_type','assigned_room_type','customer_type']])\n",
        "y= np.asanyarray(test[['meal']])\n",
        "print('residual sum of squares %.2F'% np.mean((yhat - y)**2))\n",
        "print('variance score %.2F'% regr.score(x,y))"
      ],
      "execution_count": 0,
      "outputs": []
    },
    {
      "cell_type": "code",
      "metadata": {
        "id": "bBNdcpnm_ZVF",
        "colab_type": "code",
        "colab": {}
      },
      "source": [
        "\"\"\"Multiple Linear Regression\"\"\"\n",
        "\n",
        "from sklearn import linear_model\n",
        "regr=linear_model.LinearRegression()\n",
        "x= np.asanyarray(train[['meal','reserved_room_type','assigned_room_type']])\n",
        "y=np.asanyarray(train[['customer_type']])\n",
        "regr.fit(x,y)\n",
        "print(\"regression coefficeints\", regr.coef_)\n",
        "\n",
        "\"\"\"Prediction\"\"\"\n",
        "\n",
        "yhat = regr.predict(test[['meal','reserved_room_type','assigned_room_type']])\n",
        "x = np.asanyarray(test[['meal','reserved_room_type','assigned_room_type']])\n",
        "y= np.asanyarray(test[['customer_type']])\n",
        "print('residual sum of squares %.2F'% np.mean((yhat - y)**2))\n",
        "print('variance score %.2F'% regr.score(x,y))\n"
      ],
      "execution_count": 0,
      "outputs": []
    },
    {
      "cell_type": "code",
      "metadata": {
        "id": "nVGAGwZsFvcA",
        "colab_type": "code",
        "colab": {}
      },
      "source": [
        "df.shape"
      ],
      "execution_count": 0,
      "outputs": []
    },
    {
      "cell_type": "code",
      "metadata": {
        "id": "RqBx7G-WGGGe",
        "colab_type": "code",
        "colab": {}
      },
      "source": [
        "df.columns"
      ],
      "execution_count": 0,
      "outputs": []
    },
    {
      "cell_type": "code",
      "metadata": {
        "id": "gyK1SDylFxZp",
        "colab_type": "code",
        "colab": {}
      },
      "source": [
        "cdf.shape"
      ],
      "execution_count": 0,
      "outputs": []
    },
    {
      "cell_type": "code",
      "metadata": {
        "id": "9PsLatNdIuDC",
        "colab_type": "code",
        "colab": {}
      },
      "source": [
        "cdf.head()"
      ],
      "execution_count": 0,
      "outputs": []
    },
    {
      "cell_type": "code",
      "metadata": {
        "id": "NMjm4WbsJlCK",
        "colab_type": "code",
        "colab": {}
      },
      "source": [
        ""
      ],
      "execution_count": 0,
      "outputs": []
    },
    {
      "cell_type": "code",
      "metadata": {
        "id": "1kMbfUgKYZRX",
        "colab_type": "code",
        "colab": {}
      },
      "source": [
        ""
      ],
      "execution_count": 0,
      "outputs": []
    }
  ]
}